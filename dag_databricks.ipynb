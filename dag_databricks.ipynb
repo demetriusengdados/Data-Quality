{
 "cells": [
  {
   "cell_type": "code",
   "execution_count": null,
   "metadata": {},
   "outputs": [],
   "source": [
    "from airflow import DAG\n",
    "from airflow.providers.databricks.operators.databricks import DatabricksSubmitRunOperator, DatabricksRunNowOperator\n",
    "from datetime import datetime, timedelta "
   ]
  },
  {
   "cell_type": "code",
   "execution_count": null,
   "metadata": {},
   "outputs": [],
   "source": [
    "#Define params for Submit Run Operator\n",
    "new_cluster = {\n",
    "    'spark_version': '7.3.x-scala2.12',\n",
    "    'num_workers': 2,\n",
    "    'node_type_id': 'i3.xlarge',\n",
    "}"
   ]
  },
  {
   "cell_type": "code",
   "execution_count": null,
   "metadata": {},
   "outputs": [],
   "source": [
    "notebook_task = {\n",
    "    'notebook_path': '/Users/kenten+001@astronomer.io/Quickstart_Notebook',\n",
    "}"
   ]
  },
  {
   "cell_type": "code",
   "execution_count": null,
   "metadata": {},
   "outputs": [],
   "source": [
    "#Define params for Run Now Operator\n",
    "notebook_params = {\n",
    "    \"Variable\":5\n",
    "}\n"
   ]
  },
  {
   "cell_type": "code",
   "execution_count": null,
   "metadata": {},
   "outputs": [],
   "source": [
    "default_args = {\n",
    "    'owner': 'airflow',\n",
    "    'depends_on_past': False,\n",
    "    'email_on_failure': False,\n",
    "    'email_on_retry': False,\n",
    "    'retries': 1,\n",
    "    'retry_delay': timedelta(minutes=2)\n",
    "}"
   ]
  },
  {
   "cell_type": "code",
   "execution_count": null,
   "metadata": {},
   "outputs": [],
   "source": [
    "\n",
    "with DAG('databricks_dag',\n",
    "    start_date=datetime(2021, 1, 1),\n",
    "    schedule_interval='@daily',\n",
    "    catchup=False,\n",
    "    default_args=default_args\n",
    "    ) as dag:\n",
    "        opr_submit_run = DatabricksSubmitRunOperator(\n",
    "        task_id='submit_run',\n",
    "        databricks_conn_id='databricks',\n",
    "        new_cluster=new_cluster,\n",
    "        notebook_task=notebook_task\n",
    "    )\n",
    "        opr_run_now = DatabricksRunNowOperator(\n",
    "        task_id='run_now',\n",
    "        databricks_conn_id='databricks',\n",
    "        job_id=5,\n",
    "        notebook_params=notebook_params\n",
    "    )"
   ]
  },
  {
   "cell_type": "code",
   "execution_count": null,
   "metadata": {},
   "outputs": [],
   "source": [
    "opr_submit_run >> opr_run_now"
   ]
  }
 ],
 "metadata": {
  "language_info": {
   "name": "python"
  },
  "orig_nbformat": 4
 },
 "nbformat": 4,
 "nbformat_minor": 2
}
